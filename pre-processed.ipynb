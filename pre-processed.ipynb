{
 "cells": [
  {
   "cell_type": "code",
   "execution_count": 7,
   "id": "9ee046cf-d3e8-4d13-a859-93f4a89e072c",
   "metadata": {},
   "outputs": [
    {
     "name": "stdout",
     "output_type": "stream",
     "text": [
      "Data Shape (Rows, Columns): (50, 7)\n",
      "Data Size (Total Elements): 350\n",
      "\n",
      "Null Values in Each Column:\n",
      "Key              0\n",
      "Track Name       0\n",
      "Album            0\n",
      "Artist           0\n",
      "Track ID         0\n",
      "Song Duration    0\n",
      "Genre            0\n",
      "dtype: int64\n",
      "\n",
      "Data Information:\n",
      "<class 'pandas.core.frame.DataFrame'>\n",
      "RangeIndex: 50 entries, 0 to 49\n",
      "Data columns (total 7 columns):\n",
      " #   Column         Non-Null Count  Dtype \n",
      "---  ------         --------------  ----- \n",
      " 0   Key            50 non-null     int64 \n",
      " 1   Track Name     50 non-null     object\n",
      " 2   Album          50 non-null     object\n",
      " 3   Artist         50 non-null     object\n",
      " 4   Track ID       50 non-null     object\n",
      " 5   Song Duration  50 non-null     int64 \n",
      " 6   Genre          50 non-null     object\n",
      "dtypes: int64(2), object(5)\n",
      "memory usage: 2.9+ KB\n",
      "\n",
      "Filtered data saved back to 'spotifytoptracks.csv'.\n",
      "\n",
      "Overwritten Data:\n",
      "   Key             Track Name                                  Album  \\\n",
      "0    1        Blinding Lights                            After Hours   \n",
      "1    6           Dance Monkey                           Dance Monkey   \n",
      "2   10                The Box  Please Excuse Me For Being Antisocial   \n",
      "3    8  Roses - Imanbek Remix                  Roses (Imanbek Remix)   \n",
      "4   11        Don't Start Now                       Future Nostalgia   \n",
      "\n",
      "        Artist                Track ID  Song Duration              Genre  \n",
      "0   The Weeknd  0VjIjW4GlUZAMYd2vXMi3b         200040           R&B/Soul  \n",
      "1  Tones And I  1rgnBhdG2JDFTbYkYRZAku         209755  Alternative/Indie  \n",
      "2  Roddy Ricch  0nbXyq5TXYPCO7pr3N8S4I         196653        Hip-Hop/Rap  \n",
      "3    SAINt JHN  2Wo6QQD1KMDWeFkkjLqwx5         176219   Dance/Electronic  \n",
      "4     Dua Lipa  3PfIrDoz19wz7qK7tYeu62         183290           Nu-disco  \n"
     ]
    }
   ],
   "source": [
    "import os\n",
    "import numpy as np\n",
    "import pandas as pd\n",
    "\n",
    "# Load the dataset\n",
    "music1 = pd.read_csv('spotifytoptracks.csv', index_col=None)\n",
    "\n",
    "# 1. Rename columns for clarity\n",
    "music1 = music1.rename(columns={\n",
    "    'key': 'Key', \n",
    "    'genre': 'Genre',\n",
    "    'artist': 'Artist', \n",
    "    'liveness': 'Liveness', \n",
    "    'danceability': 'Danceability', \n",
    "    'valence': 'Valence',\n",
    "    'duration_ms': 'Song Duration', \n",
    "    'track_id': 'Track ID', \n",
    "    'track_name': 'Track Name', \n",
    "    'album': 'Album'\n",
    "})\n",
    "\n",
    "# 2. Selecting only the desired renamed columns in the specified order\n",
    "musics = music1[['Key', 'Track Name', 'Album', 'Artist', 'Track ID', 'Song Duration', 'Genre']]\n",
    "\n",
    "# 3. Display the shape and size of the dataset\n",
    "data_shape = musics.shape  # shape returns a tuple (rows, columns)\n",
    "data_size = musics.size  # size returns the total number of elements in the DataFrame\n",
    "\n",
    "print(\"Data Shape (Rows, Columns):\", data_shape)  # Should print something like (rows, columns)\n",
    "print(\"Data Size (Total Elements):\", data_size)  # Should print the total number of elements\n",
    "\n",
    "# 4. Check for null values in each column\n",
    "null_values = musics.isnull().sum()\n",
    "print(\"\\nNull Values in Each Column:\")\n",
    "print(null_values)\n",
    "\n",
    "# 5. Provide information about the dataset\n",
    "print(\"\\nData Information:\")\n",
    "musics_info = musics.info()  # This will print the info directly\n",
    "\n",
    "# 6. Overwrite the original file with the filtered and renamed data\n",
    "musics.to_csv('spotifytoptracks.csv', index=False)\n",
    "print(\"\\nFiltered data saved back to 'spotifytoptracks.csv'.\")\n",
    "\n",
    "# 7. Load and display the overwritten data\n",
    "overwritten_data = pd.read_csv('spotifytoptracks.csv')\n",
    "print(\"\\nOverwritten Data:\")\n",
    "print(overwritten_data.head())  # Display the first few rows of the overwritten data\n"
   ]
  },
  {
   "cell_type": "code",
   "execution_count": 8,
   "id": "28d508b3-cb63-4251-b421-d38cb7177e0b",
   "metadata": {},
   "outputs": [
    {
     "name": "stdout",
     "output_type": "stream",
     "text": [
      "   Key             Track Name                                  Album  \\\n",
      "0    1        Blinding Lights                            After Hours   \n",
      "1    6           Dance Monkey                           Dance Monkey   \n",
      "2   10                The Box  Please Excuse Me For Being Antisocial   \n",
      "3    8  Roses - Imanbek Remix                  Roses (Imanbek Remix)   \n",
      "4   11        Don't Start Now                       Future Nostalgia   \n",
      "\n",
      "        Artist                Track ID  Song Duration              Genre  \n",
      "0   The Weeknd  0VjIjW4GlUZAMYd2vXMi3b         200040           R&B/Soul  \n",
      "1  Tones And I  1rgnBhdG2JDFTbYkYRZAku         209755  Alternative/Indie  \n",
      "2  Roddy Ricch  0nbXyq5TXYPCO7pr3N8S4I         196653        Hip-Hop/Rap  \n",
      "3    SAINt JHN  2Wo6QQD1KMDWeFkkjLqwx5         176219   Dance/Electronic  \n",
      "4     Dua Lipa  3PfIrDoz19wz7qK7tYeu62         183290           Nu-disco  \n"
     ]
    }
   ],
   "source": [
    "print(overwritten_data.head())"
   ]
  },
  {
   "cell_type": "code",
   "execution_count": null,
   "id": "d9552d56-faec-46fc-a66e-3704e8c6d652",
   "metadata": {},
   "outputs": [],
   "source": []
  }
 ],
 "metadata": {
  "kernelspec": {
   "display_name": "Python 3 (ipykernel)",
   "language": "python",
   "name": "python3"
  },
  "language_info": {
   "codemirror_mode": {
    "name": "ipython",
    "version": 3
   },
   "file_extension": ".py",
   "mimetype": "text/x-python",
   "name": "python",
   "nbconvert_exporter": "python",
   "pygments_lexer": "ipython3",
   "version": "3.13.0"
  }
 },
 "nbformat": 4,
 "nbformat_minor": 5
}
