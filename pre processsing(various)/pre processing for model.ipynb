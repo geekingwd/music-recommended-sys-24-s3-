{
 "cells": [
  {
   "cell_type": "code",
   "execution_count": 4,
   "id": "7aaf0a75-fbd1-417f-928f-054744c1067a",
   "metadata": {},
   "outputs": [
    {
     "name": "stdout",
     "output_type": "stream",
     "text": [
      "     Energy  Danceability       Key  Loudness  Acousticness  Speechiness  \\\n",
      "0  0.789938     -1.638549 -1.285498  0.125488     -0.970148    -0.556431   \n",
      "1 -0.106678      0.875208  0.076258 -0.075275      1.644400    -0.219242   \n",
      "2 -0.152490      1.449088  1.165663 -0.198226     -0.579645    -0.590150   \n",
      "3  0.731036      0.551895  0.620961  0.330549     -0.918964    -0.635973   \n",
      "4  1.202250      0.616557  1.438014  0.732935     -0.928866    -0.355847   \n",
      "\n",
      "   Instrumentalness  Liveness   Valence     Tempo  Song Duration  \n",
      "0         -0.169943 -0.611159 -1.035005  2.039582       0.002515  \n",
      "1         -0.169241 -0.151869 -0.073339 -0.859023       0.291184  \n",
      "2         -0.170965  3.394333  0.402826 -0.108089      -0.098126  \n",
      "3         -0.124694  0.505894  1.579233  0.090286      -0.705296  \n",
      "4         -0.170965 -0.580273  0.575552  0.169302      -0.495190  \n"
     ]
    },
    {
     "name": "stderr",
     "output_type": "stream",
     "text": [
      "C:\\Users\\divya\\AppData\\Local\\Temp\\ipykernel_22412\\2404786080.py:18: SettingWithCopyWarning: \n",
      "A value is trying to be set on a copy of a slice from a DataFrame\n",
      "\n",
      "See the caveats in the documentation: https://pandas.pydata.org/pandas-docs/stable/user_guide/indexing.html#returning-a-view-versus-a-copy\n",
      "  model_data.fillna(model_data.mean(), inplace=True)\n"
     ]
    }
   ],
   "source": [
    "import pandas as pd\n",
    "from sklearn.preprocessing import StandardScaler\n",
    "\n",
    "# Load the dataset that was updated during preprocessing\n",
    "file_path = '/mnt/data/spotifytoptracks.csv'\n",
    "updated_data = pd.read_csv('spotifytoptracks.csv')\n",
    "\n",
    "# Step 1: Feature Selection\n",
    "# Select relevant features for the model\n",
    "model_features = [\n",
    "    'Energy', 'Danceability', 'Key', 'Loudness', 'Acousticness',\n",
    "    'Speechiness', 'Instrumentalness', 'Liveness', 'Valence', 'Tempo', 'Song Duration'\n",
    "]\n",
    "model_data = updated_data[model_features]\n",
    "\n",
    "# Step 2: Handle Missing Values\n",
    "# Fill missing values (if any) with the mean of each column\n",
    "model_data.fillna(model_data.mean(), inplace=True)\n",
    "\n",
    "# Step 3: Scale the Features\n",
    "scaler = StandardScaler()\n",
    "scaled_data = scaler.fit_transform(model_data)\n",
    "scaled_model_data = pd.DataFrame(scaled_data, columns=model_features)\n",
    "\n",
    "# Display the preprocessed model data (optional)\n",
    "print(scaled_model_data.head())\n"
   ]
  },
  {
   "cell_type": "code",
   "execution_count": 5,
   "id": "f8b2c836-8a57-44ad-9398-80081dc932f0",
   "metadata": {},
   "outputs": [
    {
     "name": "stdout",
     "output_type": "stream",
     "text": [
      "Preprocessed dataset (scaled_model_data) saved as 'scaled_model_data.csv'.\n"
     ]
    }
   ],
   "source": [
    "# Save scaled_model_data to a CSV file\n",
    "scaled_model_data.to_csv('scaled_model_data.csv', index=False)\n",
    "print(\"Preprocessed dataset (scaled_model_data) saved as 'scaled_model_data.csv'.\")"
   ]
  },
  {
   "cell_type": "code",
   "execution_count": null,
   "id": "1746e4de-a5c2-439d-b5db-c70b734abfa3",
   "metadata": {},
   "outputs": [],
   "source": []
  }
 ],
 "metadata": {
  "kernelspec": {
   "display_name": "Python 3 (ipykernel)",
   "language": "python",
   "name": "python3"
  },
  "language_info": {
   "codemirror_mode": {
    "name": "ipython",
    "version": 3
   },
   "file_extension": ".py",
   "mimetype": "text/x-python",
   "name": "python",
   "nbconvert_exporter": "python",
   "pygments_lexer": "ipython3",
   "version": "3.13.0"
  }
 },
 "nbformat": 4,
 "nbformat_minor": 5
}
