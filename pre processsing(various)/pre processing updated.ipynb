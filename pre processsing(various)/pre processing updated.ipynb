{
 "cells": [
  {
   "cell_type": "code",
   "execution_count": 1,
   "id": "e2e9da53-a7bf-4942-8ba7-0e777d3b9bb9",
   "metadata": {},
   "outputs": [],
   "source": [
    "#libraries\n",
    "import os\n",
    "import numpy as np\n",
    "import pandas as pd\n",
    "from sklearn.preprocessing import StandardScaler"
   ]
  },
  {
   "cell_type": "code",
   "execution_count": 11,
   "id": "d0a4683d-bda1-48f2-b0d8-6e4acb659e72",
   "metadata": {},
   "outputs": [
    {
     "name": "stdout",
     "output_type": "stream",
     "text": [
      "\n",
      "Updated Dataset Preview:\n",
      "        Artist                                  Album             Track Name  \\\n",
      "0   The Weeknd                            After Hours        Blinding Lights   \n",
      "1  Tones And I                           Dance Monkey           Dance Monkey   \n",
      "2  Roddy Ricch  Please Excuse Me For Being Antisocial                The Box   \n",
      "3    SAINt JHN                  Roses (Imanbek Remix)  Roses - Imanbek Remix   \n",
      "4     Dua Lipa                       Future Nostalgia        Don't Start Now   \n",
      "\n",
      "                 Track Id    Energy  Danceability       Key  Loudness  \\\n",
      "0  0VjIjW4GlUZAMYd2vXMi3b  0.789938     -1.638549 -1.285498  0.125488   \n",
      "1  1rgnBhdG2JDFTbYkYRZAku -0.106678      0.875208  0.076258 -0.075275   \n",
      "2  0nbXyq5TXYPCO7pr3N8S4I -0.152490      1.449088  1.165663 -0.198226   \n",
      "3  2Wo6QQD1KMDWeFkkjLqwx5  0.731036      0.551895  0.620961  0.330549   \n",
      "4  3PfIrDoz19wz7qK7tYeu62  1.202250      0.616557  1.438014  0.732935   \n",
      "\n",
      "   Acousticness  Speechiness  Instrumentalness  Liveness   Valence     Tempo  \\\n",
      "0     -0.970148    -0.556431         -0.169943 -0.611159 -1.035005  2.039582   \n",
      "1      1.644400    -0.219242         -0.169241 -0.151869 -0.073339 -0.859023   \n",
      "2     -0.579645    -0.590150         -0.170965  3.394333  0.402826 -0.108089   \n",
      "3     -0.918964    -0.635973         -0.124694  0.505894  1.579233  0.090286   \n",
      "4     -0.928866    -0.355847         -0.170965 -0.580273  0.575552  0.169302   \n",
      "\n",
      "   Song Duration              Genre  \n",
      "0       0.002515           R&B/Soul  \n",
      "1       0.291184  Alternative/Indie  \n",
      "2      -0.098126        Hip-Hop/Rap  \n",
      "3      -0.705296   Dance/Electronic  \n",
      "4      -0.495190           Nu-disco  \n"
     ]
    }
   ],
   "source": [
    "\n",
    "file_path = '/mnt/data/spotifytoptracks.csv'\n",
    "data = pd.read_csv('spotifytoptracks.csv')\n",
    "\n",
    "\n",
    "data_cleaned = data.drop(columns=['Unnamed: 0'])\n",
    "\n",
    "\n",
    "data_cleaned.rename(columns={\n",
    "    'artist': 'Artist',\n",
    "    'album': 'Album',\n",
    "    'track_name': 'Track Name',\n",
    "    'track_id': 'Track Id',\n",
    "    'genre': 'Genre',\n",
    "    'energy': 'Energy',\n",
    "    'danceability': 'Danceability',\n",
    "    'key': 'Key',\n",
    "    'loudness': 'Loudness',\n",
    "    'acousticness': 'Acousticness',\n",
    "    'speechiness': 'Speechiness',\n",
    "    'instrumentalness': 'Instrumentalness',\n",
    "    'liveness': 'Liveness',\n",
    "    'valence': 'Valence',\n",
    "    'tempo': 'Tempo',\n",
    "    'duration_ms': 'Song Duration'\n",
    "}, inplace=True)\n",
    "\n",
    "\n",
    "numerical_columns = [\n",
    "    'Energy', 'Danceability', 'Key', 'Loudness', 'Acousticness',\n",
    "    'Speechiness', 'Instrumentalness', 'Liveness', 'Valence', 'Tempo', 'Song Duration'\n",
    "]\n",
    "\n",
    "\n",
    "scaler = StandardScaler()\n",
    "data_cleaned[numerical_columns] = scaler.fit_transform(data_cleaned[numerical_columns])\n",
    "\n",
    "\n",
    "data_cleaned.to_csv('spotifytoptracks.csv', index=False)\n",
    "\n",
    "\n",
    "\n",
    "updated_data = pd.read_csv('spotifytoptracks.csv')\n",
    "print(\"\\nUpdated Dataset Preview:\")\n",
    "print(updated_data.head())\n"
   ]
  },
  {
   "cell_type": "code",
   "execution_count": null,
   "id": "b55c63f5-a1b4-470c-95f0-31f9b8a06cbb",
   "metadata": {},
   "outputs": [],
   "source": []
  }
 ],
 "metadata": {
  "kernelspec": {
   "display_name": "Python 3 (ipykernel)",
   "language": "python",
   "name": "python3"
  },
  "language_info": {
   "codemirror_mode": {
    "name": "ipython",
    "version": 3
   },
   "file_extension": ".py",
   "mimetype": "text/x-python",
   "name": "python",
   "nbconvert_exporter": "python",
   "pygments_lexer": "ipython3",
   "version": "3.13.0"
  }
 },
 "nbformat": 4,
 "nbformat_minor": 5
}
